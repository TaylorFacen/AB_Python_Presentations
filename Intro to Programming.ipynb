{
 "cells": [
  {
   "cell_type": "markdown",
   "metadata": {},
   "source": [
    "# Intro to Programming\n",
    "May 29, 2019"
   ]
  },
  {
   "cell_type": "code",
   "execution_count": null,
   "metadata": {},
   "outputs": [],
   "source": [
    "# This is a cell. You can write code here to run a program\n",
    "\n",
    "print(\"Hello World\")"
   ]
  },
  {
   "cell_type": "markdown",
   "metadata": {},
   "source": [
    "## Data Types"
   ]
  },
  {
   "cell_type": "markdown",
   "metadata": {},
   "source": [
    "### Strings"
   ]
  },
  {
   "cell_type": "code",
   "execution_count": null,
   "metadata": {},
   "outputs": [],
   "source": [
    "# Strings represent characters, words, and even emojis!\n",
    "# Here's my name as a string\n",
    "\n",
    "print(\"Taylor 💁🏽‍♀️\")\n",
    "\n",
    "### Enter your name as a string here\n",
    "print(\"Enter your name here\")"
   ]
  },
  {
   "cell_type": "markdown",
   "metadata": {},
   "source": [
    "### Numbers"
   ]
  },
  {
   "cell_type": "code",
   "execution_count": null,
   "metadata": {},
   "outputs": [],
   "source": [
    "# There are two main types of numbers used in programming - Ints and Floats\n",
    "\n",
    "# An int is a whole number. For example, here are the number of days in May\n",
    "\n",
    "print(31)\n",
    "\n",
    "# A float is a number with a decimal. Here's the number of centimeters in an inch\n",
    "print(2.54)"
   ]
  },
  {
   "cell_type": "code",
   "execution_count": null,
   "metadata": {},
   "outputs": [],
   "source": [
    "# Just like you do every day in math class, you can perform calculations with numbers\n",
    "\n",
    "# What do you think the answers will be?\n",
    "\n",
    "print(1 + 1)\n",
    "print(2 * 8)\n",
    "print(4 * 20)\n",
    "print(100 / 10)"
   ]
  },
  {
   "cell_type": "markdown",
   "metadata": {},
   "source": [
    "### Booleans"
   ]
  },
  {
   "cell_type": "code",
   "execution_count": null,
   "metadata": {},
   "outputs": [],
   "source": [
    "# Booleans can only be one of two things, True or False\n",
    "\n",
    "# When you compare two objects, Python returns a Boolean value\n",
    "\n",
    "print( 1 == 1 )\n",
    "print( 10 < 2 )\n",
    "print( \"dog\" >= \"cat\" )"
   ]
  },
  {
   "cell_type": "markdown",
   "metadata": {},
   "source": [
    "### Lists"
   ]
  },
  {
   "cell_type": "code",
   "execution_count": null,
   "metadata": {},
   "outputs": [],
   "source": [
    "# Lists are a collection of other types\n",
    "\n",
    "# Here's a list of my favorite foods\n",
    "[\"fries\", \"pizza\", \"toast\"]\n",
    "\n",
    "# Here's a list of all of the locker numbers I had in high school\n",
    "[123, 984, 835, 363]\n",
    "\n",
    "# Try making a list of anything you want. It can be the names of your siblings, numbers from 1 to 10, or anything else!\n"
   ]
  },
  {
   "cell_type": "markdown",
   "metadata": {},
   "source": [
    "## Key Python Topics"
   ]
  },
  {
   "cell_type": "markdown",
   "metadata": {},
   "source": [
    "### Variables"
   ]
  },
  {
   "cell_type": "code",
   "execution_count": null,
   "metadata": {},
   "outputs": [],
   "source": [
    "# Variables are like boxes that hold data like strings, numbers, booleans, and lists\n",
    "\n",
    "# You can put something in an empty box like this\n",
    "\n",
    "color = \"green\""
   ]
  },
  {
   "cell_type": "code",
   "execution_count": null,
   "metadata": {},
   "outputs": [],
   "source": [
    "# You can look at what's in the box like this\n",
    "\n",
    "print(color)"
   ]
  },
  {
   "cell_type": "code",
   "execution_count": null,
   "metadata": {},
   "outputs": [],
   "source": [
    "# You can change what's in the box like this\n",
    "\n",
    "color = \"purple\""
   ]
  },
  {
   "cell_type": "code",
   "execution_count": null,
   "metadata": {},
   "outputs": [],
   "source": [
    "# You can throw away the box like this\n",
    "\n",
    "del color"
   ]
  },
  {
   "cell_type": "code",
   "execution_count": null,
   "metadata": {},
   "outputs": [],
   "source": [
    "# Try creating a variable of your favorite color\n",
    "\n",
    "favorite_color = #Enter your answer here#\n",
    "\n",
    "print(favorite_color)"
   ]
  },
  {
   "cell_type": "markdown",
   "metadata": {},
   "source": [
    "### Conditional Programming"
   ]
  },
  {
   "cell_type": "code",
   "execution_count": null,
   "metadata": {},
   "outputs": [],
   "source": [
    "# If-Else Statements are a cool way to create programs with multiple outcomes\n",
    "\n",
    "weather = 'raining'\n",
    "\n",
    "if weather == 'raining':\n",
    "    print(\"Grab an umbrella!\")\n",
    "    \n",
    "# What do you think will happen when you run this cell?"
   ]
  },
  {
   "cell_type": "code",
   "execution_count": null,
   "metadata": {},
   "outputs": [],
   "source": [
    "weather = 'sunny'\n",
    "\n",
    "if weather == 'raining':\n",
    "    print(\"Grab an umbrella!\")\n",
    "else:\n",
    "    print(\"You don't need an umbrella!\")\n",
    "    \n",
    "# What do you think will happen when you run this cell?"
   ]
  },
  {
   "cell_type": "code",
   "execution_count": null,
   "metadata": {},
   "outputs": [],
   "source": [
    "weather = \"hot\"\n",
    "\n",
    "if weather == \"cold\":\n",
    "    print(\"You need a coat\")\n",
    "elif weather == \"warm\":\n",
    "    print(\"You need a light sweather\")\n",
    "elif weather == \"hot\":\n",
    "    print(\"Let's go to the beach!\")\n",
    "else:\n",
    "    print(\"I'm not sure what to do 🤔\")\n",
    "    \n",
    "# What do you think will happen when you run this cell?"
   ]
  },
  {
   "cell_type": "markdown",
   "metadata": {},
   "source": [
    "### Loops"
   ]
  },
  {
   "cell_type": "code",
   "execution_count": null,
   "metadata": {},
   "outputs": [],
   "source": [
    "# Loops\n",
    "\n",
    "# Loops are a cool way to run the same code over and over again. \n",
    "\n",
    "# For loop\n",
    "numbers = [1, 2, 3, 4, 5, 6, 7, 8, 9, 10]\n",
    "\n",
    "for number in numbers:\n",
    "    print(number)"
   ]
  },
  {
   "cell_type": "code",
   "execution_count": null,
   "metadata": {},
   "outputs": [],
   "source": [
    "# While loop\n",
    "number = 1\n",
    "while number <= 10:\n",
    "    print(number)\n",
    "    \n",
    "    number = number + 1"
   ]
  },
  {
   "cell_type": "markdown",
   "metadata": {},
   "source": [
    "## Let's Make a Game!\n",
    "\n",
    "Today, we're going to build a numbers guessing game. The computer will choose a random number, and you will try to guess what it is!"
   ]
  },
  {
   "cell_type": "code",
   "execution_count": null,
   "metadata": {},
   "outputs": [],
   "source": [
    "# You can ignore what's in this cell\n",
    "import random\n",
    "\n",
    "def get_random_number(max_number):\n",
    "    return random.randint(1, max_number)\n",
    "\n",
    "# You can ignore what's in this cell"
   ]
  },
  {
   "cell_type": "code",
   "execution_count": null,
   "metadata": {},
   "outputs": [],
   "source": [
    "# What's the highest number you want the computer to choose?\n",
    "\n",
    "max_number = #Enter highest guess here#\n",
    "\n",
    "# Now, the computer can choose a random number\n",
    "random_number = get_random_number(max_number)"
   ]
  },
  {
   "cell_type": "code",
   "execution_count": null,
   "metadata": {},
   "outputs": [],
   "source": [
    "guess = None\n",
    "\n",
    "while guess != random_number:\n",
    "    guess = int(input(\"What's your guess?\"))\n",
    "    \n",
    "    if guess == random_number:\n",
    "        print(\"Congrats! You got it right! The computer chose the number \" + str(random_number) + \".\")\n",
    "    elif guess > random_number:\n",
    "        print(\"You're too high. Guess again\")\n",
    "    elif guess < random_number:\n",
    "        print(\"You're too low. Guess again\")"
   ]
  },
  {
   "cell_type": "code",
   "execution_count": null,
   "metadata": {},
   "outputs": [],
   "source": []
  }
 ],
 "metadata": {
  "kernelspec": {
   "display_name": "Python 3",
   "language": "python",
   "name": "python3"
  },
  "language_info": {
   "codemirror_mode": {
    "name": "ipython",
    "version": 3
   },
   "file_extension": ".py",
   "mimetype": "text/x-python",
   "name": "python",
   "nbconvert_exporter": "python",
   "pygments_lexer": "ipython3",
   "version": "3.7.1"
  }
 },
 "nbformat": 4,
 "nbformat_minor": 2
}
